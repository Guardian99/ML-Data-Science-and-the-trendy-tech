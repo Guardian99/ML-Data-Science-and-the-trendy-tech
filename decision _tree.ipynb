{
  "nbformat": 4,
  "nbformat_minor": 0,
  "metadata": {
    "colab": {
      "provenance": []
    },
    "kernelspec": {
      "name": "python3",
      "display_name": "Python 3"
    },
    "language_info": {
      "name": "python"
    }
  },
  "cells": [
    {
      "cell_type": "markdown",
      "source": [
        "#Author Information"
      ],
      "metadata": {
        "id": "2vq9_hD4rvpC"
      }
    },
    {
      "cell_type": "markdown",
      "source": [
        "Name: Kanishk Rana\n",
        "\n",
        "PGID: 12410090\n",
        "\n",
        "Course: MLSL1"
      ],
      "metadata": {
        "id": "s7S2Tu6-rvae"
      }
    },
    {
      "cell_type": "markdown",
      "source": [
        "#Reading Dataset"
      ],
      "metadata": {
        "id": "EkGl8MUhr0_i"
      }
    },
    {
      "cell_type": "markdown",
      "source": [
        "##Code"
      ],
      "metadata": {
        "id": "tbES9WUAgfPR"
      }
    },
    {
      "cell_type": "code",
      "source": [
        "import numpy as np\n",
        "import pandas as pd\n",
        "import seaborn as sns\n",
        "import matplotlib.pyplot as plt\n",
        "import os\n",
        "from sklearn.model_selection import train_test_split\n",
        "from sklearn.preprocessing import LabelEncoder\n",
        "from sklearn.metrics import classification_report, confusion_matrix\n",
        "from sklearn.tree import DecisionTreeClassifier, export_graphviz\n",
        "import graphviz\n",
        "from sklearn.tree import export_text\n",
        "from sklearn.metrics import confusion_matrix, classification_report, ConfusionMatrixDisplay\n",
        "from sklearn.preprocessing import LabelEncoder\n",
        "\n",
        "# [PROBLEM 5] Load and preprocess the mushroom dataset\n",
        "df = pd.read_csv(\"/content/mushrooms.csv\")\n",
        "df = df.astype('category')\n",
        "\n",
        "labelencoder = LabelEncoder()\n",
        "for column in df.columns:\n",
        "    df[column] = labelencoder.fit_transform(df[column])\n",
        "\n",
        "X = df.drop(['class'], axis=1)\n",
        "y = df[\"class\"]\n",
        "\n",
        "print(X.head())\n",
        "print(y.head())\n",
        "\n",
        "# Split data into training and testing sets\n",
        "X_train, X_test, y_train, y_test = train_test_split(X, y, random_state=42, test_size=0.3)\n",
        "\n"
      ],
      "metadata": {
        "colab": {
          "base_uri": "https://localhost:8080/"
        },
        "id": "gWBRLmpwxNRc",
        "outputId": "cb7a329d-fbca-40ff-d4dc-7e50a0ce6f51"
      },
      "execution_count": 49,
      "outputs": [
        {
          "output_type": "stream",
          "name": "stdout",
          "text": [
            "   cap-shape  cap-surface  cap-color  bruises  odor  gill-attachment  \\\n",
            "0          5            2          4        1     6                1   \n",
            "1          5            2          9        1     0                1   \n",
            "2          0            2          8        1     3                1   \n",
            "3          5            3          8        1     6                1   \n",
            "4          5            2          3        0     5                1   \n",
            "\n",
            "   gill-spacing  gill-size  gill-color  stalk-shape  ...  \\\n",
            "0             0          1           4            0  ...   \n",
            "1             0          0           4            0  ...   \n",
            "2             0          0           5            0  ...   \n",
            "3             0          1           5            0  ...   \n",
            "4             1          0           4            1  ...   \n",
            "\n",
            "   stalk-surface-below-ring  stalk-color-above-ring  stalk-color-below-ring  \\\n",
            "0                         2                       7                       7   \n",
            "1                         2                       7                       7   \n",
            "2                         2                       7                       7   \n",
            "3                         2                       7                       7   \n",
            "4                         2                       7                       7   \n",
            "\n",
            "   veil-type  veil-color  ring-number  ring-type  spore-print-color  \\\n",
            "0          0           2            1          4                  2   \n",
            "1          0           2            1          4                  3   \n",
            "2          0           2            1          4                  3   \n",
            "3          0           2            1          4                  2   \n",
            "4          0           2            1          0                  3   \n",
            "\n",
            "   population  habitat  \n",
            "0           3        5  \n",
            "1           2        1  \n",
            "2           2        3  \n",
            "3           3        5  \n",
            "4           0        1  \n",
            "\n",
            "[5 rows x 22 columns]\n",
            "0    1\n",
            "1    0\n",
            "2    0\n",
            "3    1\n",
            "4    0\n",
            "Name: class, dtype: int64\n"
          ]
        }
      ]
    },
    {
      "cell_type": "markdown",
      "source": [
        "##Explanation of Code"
      ],
      "metadata": {
        "id": "GI6AUl6Xr8zP"
      }
    },
    {
      "cell_type": "markdown",
      "source": [
        "\n",
        "\n",
        "### **1. Dataset Loading and Preprocessing**\n",
        "#### **Why load and preprocess the dataset?**\n",
        "- **Goal:** The dataset is first loaded and transformed into a format that machine learning algorithms can process.\n",
        "- **Preprocessing ensures:**\n",
        "  1. Consistent representation of categorical features across the dataset.\n",
        "  2. Removal of potential ambiguities (e.g., text-based categories) by converting them into numeric labels.\n",
        "\n",
        "#### **Why convert columns to `category` datatype?**\n",
        "- Categorical features often represent finite classes or states (e.g., \"cap-shape\" or \"odor\").\n",
        "- Assigning the `category` datatype explicitly tells the system that these columns do not have inherent numerical relationships (e.g., cap shapes are not ordinal).\n",
        "- It also reduces memory usage compared to treating the data as raw strings.\n",
        "\n",
        "#### **Why use Label Encoding?**\n",
        "- Label encoding is chosen because:\n",
        "  - It maps each category to a unique integer, ensuring a compact numeric representation.\n",
        "  - Many machine learning algorithms (like decision trees) can directly work with integer-encoded categories without assuming a linear relationship between the values.\n",
        "- **Larger Context:** This approach avoids introducing bias that could occur if we assigned arbitrary or ordinal relationships to categorical features. For example, \"cap-color\" categories are treated as distinct states rather than implying any rank or order.\n",
        "\n",
        "---\n",
        "\n",
        "### **2. Feature and Target Separation**\n",
        "#### **Why split into features (`X`) and target variable (`y`)?**\n",
        "- Machine learning models predict the target variable based on patterns in the features. Separating these ensures:\n",
        "  1. The model focuses on learning relationships between input features (`X`) and the output (`y`).\n",
        "  2. The `'class'` column is reserved exclusively for evaluation, avoiding data leakage.\n",
        "\n",
        "#### **Why drop the `'class'` column from `X`?**\n",
        "- Including the target column as a feature would result in a model that memorizes the output instead of generalizing patterns, leading to overfitting.\n",
        "- **Larger Context:** Ensures a clear distinction between what the model learns (features) and what it predicts (target), maintaining model integrity.\n",
        "\n",
        "---\n",
        "\n",
        "### **3. Splitting the Data into Training and Testing Sets**\n",
        "#### **Why split the dataset?**\n",
        "- **Goal:** To evaluate how well the model generalizes to unseen data.\n",
        "- The split creates two subsets:\n",
        "  1. **Training Set (70%):** Used to train the decision tree model.\n",
        "  2. **Testing Set (30%):** Reserved for evaluating how well the model performs on data it has not seen before.\n",
        "- **Larger Context:** By separating data for evaluation, we avoid overestimating the model's accuracy, which could happen if we test on the same data we trained on.\n",
        "\n",
        "#### **Why `test_size=0.3`?**\n",
        "- A 70/30 split is a common balance:\n",
        "  - The model has enough data to learn meaningful patterns during training.\n",
        "  - The test set is large enough to provide reliable performance metrics.\n",
        "\n",
        "#### **Why set `random_state=42`?**\n",
        "- Ensures that the train-test split is reproducible across multiple runs:\n",
        "  - The same rows are allocated to training and testing every time the code runs.\n",
        "  - This removes variability in performance metrics that could arise from different random splits.\n",
        "\n",
        "\n",
        "---\n",
        "\n",
        "### **4. Larger Context of Preprocessing**\n",
        "#### Why these steps ensure fairness and avoid bias:\n",
        "1. **Consistent Transformation:**\n",
        "   - All categorical features are encoded uniformly across the dataset, ensuring no feature is prioritized or ignored by the model due to its representation.\n",
        "2. **No Arbitrary Relationships:**\n",
        "   - Label encoding avoids introducing unintended ordinal relationships between categories.\n",
        "3. **Test Data Integrity:**\n",
        "   - The test set remains unseen during training, ensuring that the evaluation reflects the model's ability to generalize, not just memorize.\n",
        "\n",
        "#### Why this is important in decision tree models:\n",
        "- Decision trees are sensitive to input data. Preprocessing ensures:\n",
        "  - The tree splits data based on true relationships, not artifacts introduced by inconsistent or biased preprocessing.\n",
        "  - Proper splitting and encoding prevent overfitting while ensuring robust evaluation.\n",
        "\n",
        "By carefully preprocessing and splitting the data, this workflow ensures that the decision tree model is built and evaluated on a fair and unbiased representation of the mushroom dataset.\n"
      ],
      "metadata": {
        "id": "oxt2wzFWr-nn"
      }
    },
    {
      "cell_type": "markdown",
      "source": [
        "#Tree Sweep"
      ],
      "metadata": {
        "id": "szpWkwJ3G2cZ"
      }
    },
    {
      "cell_type": "markdown",
      "source": [
        "\n",
        "### **Overview**\n"
      ],
      "metadata": {
        "id": "2_q9rsZUfLpC"
      }
    },
    {
      "cell_type": "markdown",
      "source": [
        "This parameter sweep evaluates decision tree performance across various combinations of:\n",
        "1. **Tree Depth (`Size`)**: Controls the maximum depth of the decision tree.\n",
        "2. **Purity Threshold (`Purity`)**: Defines the minimum impurity decrease required for a node split.\n",
        "\n",
        "The goal is to analyze how these parameters affect the model's accuracy and generalization, highlighting key trade-offs between underfitting and overfitting.\n"
      ],
      "metadata": {
        "id": "N9hKwtqxfVQ3"
      }
    },
    {
      "cell_type": "markdown",
      "source": [
        "###Code"
      ],
      "metadata": {
        "id": "I1Q4opVvfPsR"
      }
    },
    {
      "cell_type": "code",
      "source": [
        "def tree_sweep(X_train, X_test, y_train, y_test,\n",
        "               size=[10, 20, 30, 40, 50, 60, 70, 80, 90, 100],\n",
        "               purity=[60, 65, 70, 75, 80, 85, 90, 95]):\n",
        "    results = []\n",
        "\n",
        "    for max_depth in size:\n",
        "        for min_purity in purity:\n",
        "            # Convert purity to min_impurity_decrease\n",
        "            min_impurity = (100 - min_purity) / 100.0\n",
        "\n",
        "            # Train a decision tree\n",
        "            dt = DecisionTreeClassifier(\n",
        "                criterion='entropy',  # Use information gain\n",
        "                max_depth=max_depth,\n",
        "                min_impurity_decrease=min_impurity,\n",
        "                random_state=42\n",
        "            )\n",
        "            dt.fit(X_train, y_train)\n",
        "\n",
        "            # Evaluate accuracies\n",
        "            train_acc = dt.score(X_train, y_train) * 100\n",
        "            test_acc = dt.score(X_test, y_test) * 100\n",
        "\n",
        "            # Print accuracy for this combination\n",
        "            print(f\"Size: {max_depth}, Purity: {min_purity}% -> Train Accuracy: {train_acc:.2f}%, Test Accuracy: {test_acc:.2f}%\")\n",
        "\n",
        "            # Append results\n",
        "            results.append([max_depth, min_purity, train_acc, test_acc])\n",
        "\n",
        "    # Create results DataFrame\n",
        "    results_df = pd.DataFrame(results, columns=['size', 'purity', 'training-accuracy', 'test-accuracy'])\n",
        "    results_df.to_csv('tree_sweep.csv', index=False)\n",
        "    print(\"Results saved to tree_sweep.csv\")\n",
        "\n",
        "    return results_df\n",
        "\n",
        "results_df = tree_sweep(X_train, X_test, y_train, y_test)"
      ],
      "metadata": {
        "colab": {
          "base_uri": "https://localhost:8080/"
        },
        "id": "1I0w37R1Impa",
        "outputId": "98c12f38-2912-4197-e922-e32c6cc1a96d"
      },
      "execution_count": 50,
      "outputs": [
        {
          "output_type": "stream",
          "name": "stdout",
          "text": [
            "Size: 10, Purity: 60% -> Train Accuracy: 51.90%, Test Accuracy: 51.56%\n",
            "Size: 10, Purity: 65% -> Train Accuracy: 51.90%, Test Accuracy: 51.56%\n",
            "Size: 10, Purity: 70% -> Train Accuracy: 51.90%, Test Accuracy: 51.56%\n",
            "Size: 10, Purity: 75% -> Train Accuracy: 91.47%, Test Accuracy: 91.18%\n",
            "Size: 10, Purity: 80% -> Train Accuracy: 91.47%, Test Accuracy: 91.18%\n",
            "Size: 10, Purity: 85% -> Train Accuracy: 91.47%, Test Accuracy: 91.18%\n",
            "Size: 10, Purity: 90% -> Train Accuracy: 94.64%, Test Accuracy: 94.30%\n",
            "Size: 10, Purity: 95% -> Train Accuracy: 95.88%, Test Accuracy: 95.32%\n",
            "Size: 20, Purity: 60% -> Train Accuracy: 51.90%, Test Accuracy: 51.56%\n",
            "Size: 20, Purity: 65% -> Train Accuracy: 51.90%, Test Accuracy: 51.56%\n",
            "Size: 20, Purity: 70% -> Train Accuracy: 51.90%, Test Accuracy: 51.56%\n",
            "Size: 20, Purity: 75% -> Train Accuracy: 91.47%, Test Accuracy: 91.18%\n",
            "Size: 20, Purity: 80% -> Train Accuracy: 91.47%, Test Accuracy: 91.18%\n",
            "Size: 20, Purity: 85% -> Train Accuracy: 91.47%, Test Accuracy: 91.18%\n",
            "Size: 20, Purity: 90% -> Train Accuracy: 94.64%, Test Accuracy: 94.30%\n",
            "Size: 20, Purity: 95% -> Train Accuracy: 95.88%, Test Accuracy: 95.32%\n",
            "Size: 30, Purity: 60% -> Train Accuracy: 51.90%, Test Accuracy: 51.56%\n",
            "Size: 30, Purity: 65% -> Train Accuracy: 51.90%, Test Accuracy: 51.56%\n",
            "Size: 30, Purity: 70% -> Train Accuracy: 51.90%, Test Accuracy: 51.56%\n",
            "Size: 30, Purity: 75% -> Train Accuracy: 91.47%, Test Accuracy: 91.18%\n",
            "Size: 30, Purity: 80% -> Train Accuracy: 91.47%, Test Accuracy: 91.18%\n",
            "Size: 30, Purity: 85% -> Train Accuracy: 91.47%, Test Accuracy: 91.18%\n",
            "Size: 30, Purity: 90% -> Train Accuracy: 94.64%, Test Accuracy: 94.30%\n",
            "Size: 30, Purity: 95% -> Train Accuracy: 95.88%, Test Accuracy: 95.32%\n",
            "Size: 40, Purity: 60% -> Train Accuracy: 51.90%, Test Accuracy: 51.56%\n",
            "Size: 40, Purity: 65% -> Train Accuracy: 51.90%, Test Accuracy: 51.56%\n",
            "Size: 40, Purity: 70% -> Train Accuracy: 51.90%, Test Accuracy: 51.56%\n",
            "Size: 40, Purity: 75% -> Train Accuracy: 91.47%, Test Accuracy: 91.18%\n",
            "Size: 40, Purity: 80% -> Train Accuracy: 91.47%, Test Accuracy: 91.18%\n",
            "Size: 40, Purity: 85% -> Train Accuracy: 91.47%, Test Accuracy: 91.18%\n",
            "Size: 40, Purity: 90% -> Train Accuracy: 94.64%, Test Accuracy: 94.30%\n",
            "Size: 40, Purity: 95% -> Train Accuracy: 95.88%, Test Accuracy: 95.32%\n",
            "Size: 50, Purity: 60% -> Train Accuracy: 51.90%, Test Accuracy: 51.56%\n",
            "Size: 50, Purity: 65% -> Train Accuracy: 51.90%, Test Accuracy: 51.56%\n",
            "Size: 50, Purity: 70% -> Train Accuracy: 51.90%, Test Accuracy: 51.56%\n",
            "Size: 50, Purity: 75% -> Train Accuracy: 91.47%, Test Accuracy: 91.18%\n",
            "Size: 50, Purity: 80% -> Train Accuracy: 91.47%, Test Accuracy: 91.18%\n",
            "Size: 50, Purity: 85% -> Train Accuracy: 91.47%, Test Accuracy: 91.18%\n",
            "Size: 50, Purity: 90% -> Train Accuracy: 94.64%, Test Accuracy: 94.30%\n",
            "Size: 50, Purity: 95% -> Train Accuracy: 95.88%, Test Accuracy: 95.32%\n",
            "Size: 60, Purity: 60% -> Train Accuracy: 51.90%, Test Accuracy: 51.56%\n",
            "Size: 60, Purity: 65% -> Train Accuracy: 51.90%, Test Accuracy: 51.56%\n",
            "Size: 60, Purity: 70% -> Train Accuracy: 51.90%, Test Accuracy: 51.56%\n",
            "Size: 60, Purity: 75% -> Train Accuracy: 91.47%, Test Accuracy: 91.18%\n",
            "Size: 60, Purity: 80% -> Train Accuracy: 91.47%, Test Accuracy: 91.18%\n",
            "Size: 60, Purity: 85% -> Train Accuracy: 91.47%, Test Accuracy: 91.18%\n",
            "Size: 60, Purity: 90% -> Train Accuracy: 94.64%, Test Accuracy: 94.30%\n",
            "Size: 60, Purity: 95% -> Train Accuracy: 95.88%, Test Accuracy: 95.32%\n",
            "Size: 70, Purity: 60% -> Train Accuracy: 51.90%, Test Accuracy: 51.56%\n",
            "Size: 70, Purity: 65% -> Train Accuracy: 51.90%, Test Accuracy: 51.56%\n",
            "Size: 70, Purity: 70% -> Train Accuracy: 51.90%, Test Accuracy: 51.56%\n",
            "Size: 70, Purity: 75% -> Train Accuracy: 91.47%, Test Accuracy: 91.18%\n",
            "Size: 70, Purity: 80% -> Train Accuracy: 91.47%, Test Accuracy: 91.18%\n",
            "Size: 70, Purity: 85% -> Train Accuracy: 91.47%, Test Accuracy: 91.18%\n",
            "Size: 70, Purity: 90% -> Train Accuracy: 94.64%, Test Accuracy: 94.30%\n",
            "Size: 70, Purity: 95% -> Train Accuracy: 95.88%, Test Accuracy: 95.32%\n",
            "Size: 80, Purity: 60% -> Train Accuracy: 51.90%, Test Accuracy: 51.56%\n",
            "Size: 80, Purity: 65% -> Train Accuracy: 51.90%, Test Accuracy: 51.56%\n",
            "Size: 80, Purity: 70% -> Train Accuracy: 51.90%, Test Accuracy: 51.56%\n",
            "Size: 80, Purity: 75% -> Train Accuracy: 91.47%, Test Accuracy: 91.18%\n",
            "Size: 80, Purity: 80% -> Train Accuracy: 91.47%, Test Accuracy: 91.18%\n",
            "Size: 80, Purity: 85% -> Train Accuracy: 91.47%, Test Accuracy: 91.18%\n",
            "Size: 80, Purity: 90% -> Train Accuracy: 94.64%, Test Accuracy: 94.30%\n",
            "Size: 80, Purity: 95% -> Train Accuracy: 95.88%, Test Accuracy: 95.32%\n",
            "Size: 90, Purity: 60% -> Train Accuracy: 51.90%, Test Accuracy: 51.56%\n",
            "Size: 90, Purity: 65% -> Train Accuracy: 51.90%, Test Accuracy: 51.56%\n",
            "Size: 90, Purity: 70% -> Train Accuracy: 51.90%, Test Accuracy: 51.56%\n",
            "Size: 90, Purity: 75% -> Train Accuracy: 91.47%, Test Accuracy: 91.18%\n",
            "Size: 90, Purity: 80% -> Train Accuracy: 91.47%, Test Accuracy: 91.18%\n",
            "Size: 90, Purity: 85% -> Train Accuracy: 91.47%, Test Accuracy: 91.18%\n",
            "Size: 90, Purity: 90% -> Train Accuracy: 94.64%, Test Accuracy: 94.30%\n",
            "Size: 90, Purity: 95% -> Train Accuracy: 95.88%, Test Accuracy: 95.32%\n",
            "Size: 100, Purity: 60% -> Train Accuracy: 51.90%, Test Accuracy: 51.56%\n",
            "Size: 100, Purity: 65% -> Train Accuracy: 51.90%, Test Accuracy: 51.56%\n",
            "Size: 100, Purity: 70% -> Train Accuracy: 51.90%, Test Accuracy: 51.56%\n",
            "Size: 100, Purity: 75% -> Train Accuracy: 91.47%, Test Accuracy: 91.18%\n",
            "Size: 100, Purity: 80% -> Train Accuracy: 91.47%, Test Accuracy: 91.18%\n",
            "Size: 100, Purity: 85% -> Train Accuracy: 91.47%, Test Accuracy: 91.18%\n",
            "Size: 100, Purity: 90% -> Train Accuracy: 94.64%, Test Accuracy: 94.30%\n",
            "Size: 100, Purity: 95% -> Train Accuracy: 95.88%, Test Accuracy: 95.32%\n",
            "Results saved to tree_sweep.csv\n"
          ]
        }
      ]
    },
    {
      "cell_type": "markdown",
      "source": [
        "##Explanation of Code"
      ],
      "metadata": {
        "id": "eGxJBfPjG8RE"
      }
    },
    {
      "cell_type": "markdown",
      "source": [
        "\n",
        "---\n",
        "\n",
        "#### **1. Why Use Entropy as the Criterion?**\n",
        "##### **Definition of Entropy:**\n",
        "\\[\n",
        "H(S) = - \\sum_{i=1}^c p_i \\log_2(p_i)\n",
        "\\]\n",
        "- **`H(S)`**: Entropy of dataset `S`.\n",
        "- **`p_i`**: Proportion of instances in class `i`.\n",
        "\n",
        "#### **Why Entropy?**\n",
        "1. **Measures Purity:**\n",
        "   - Entropy quantifies impurity or randomness in a dataset. A split that reduces entropy indicates a more homogenous (pure) subset.\n",
        "2. **Theoretical Basis:**\n",
        "   - Derived from information theory, entropy measures the uncertainty in a system. Lower entropy means less uncertainty and higher purity.\n",
        "3. **Why Information Gain?**\n",
        "   - Decision trees aim to maximize information gain:\n",
        "     \\[\n",
        "     IG(S, A) = H(S) - \\sum_{v \\in Values(A)} \\frac{|S_v|}{|S|} H(S_v)\n",
        "     \\]\n",
        "     - **`IG(S, A)`**: Information gain for splitting dataset `S` on attribute `A`.\n",
        "   - Splits with higher information gain reduce uncertainty the most, leading to better generalization.\n",
        "\n",
        "---\n",
        "\n",
        "#### **2. Why Define Minimum Impurity Decrease (`min_impurity_decrease`)?**\n",
        "##### **Purpose:**\n",
        "- Prevents overfitting by controlling unnecessary splits.\n",
        "- Ensures splits occur only when impurity reduction is significant.\n",
        "\n",
        "##### **How It Works:**\n",
        "1. Splits are made only if:\n",
        "   \\[\n",
        "   \\Delta Impurity = H(Parent) - \\left( \\frac{|S_1|}{|S|}H(S_1) + \\frac{|S_2|}{|S|}H(S_2) \\right)\n",
        "   \\]\n",
        "   meets or exceeds the `min_impurity_decrease` threshold.\n",
        "2. **Conversion of Purity to `min_impurity_decrease`:**\n",
        "   - A purity of \\( p\\% \\) is converted to:\n",
        "     \\[\n",
        "     \\text{min\\_impurity\\_decrease} = \\frac{100 - p}{100}\n",
        "     \\]\n",
        "\n",
        "##### **Why Use It?**\n",
        "- **Regularization:** Prevents splits that provide marginal improvements in impurity reduction.\n",
        "- **Bias-Variance Trade-Off:**\n",
        "  - **Lower Thresholds:** Increase model complexity (lower bias, higher variance).\n",
        "  - **Higher Thresholds:** Simplify the model (higher bias, lower variance).\n",
        "- **Avoiding Overfitting:** Ensures splits occur only for meaningful impurity reductions.\n",
        "\n",
        "---\n",
        "\n",
        "#### **3. Impact of Maximum Depth (`max_depth`)**\n",
        "##### **Purpose:**\n",
        "- Controls the complexity of the decision tree by restricting the number of levels.\n",
        "\n",
        "##### **What Does Depth Control?**\n",
        "1. **Shallow Trees:**\n",
        "   - Limited splits, risk of underfitting.\n",
        "   - Generalize better to unseen data.\n",
        "2. **Deep Trees:**\n",
        "   - Detailed feature space partitioning, risk of overfitting.\n",
        "   - Capture complex patterns in training data.\n",
        "\n",
        "##### **Why Control Depth?**\n",
        "- **Computational Efficiency:** Deep trees are computationally expensive.\n",
        "- **Model Simplicity:** Shallower trees are easier to interpret.\n",
        "- **Avoiding Overfitting:** Limits overly specific splits.\n",
        "\n",
        "---\n",
        "\n",
        "#### **4. Results Analysis**\n",
        "\n",
        "##### **Low Purity Thresholds (`Purity ≤ 70%`):**\n",
        "- **Train Accuracy:** ~51.90%\n",
        "- **Test Accuracy:** ~51.56%\n",
        "- **Reason:**\n",
        "  - Excessive splits on noise lead to poor generalization.\n",
        "\n",
        "---\n",
        "\n",
        "##### **Transition Region (`Purity = 75%-85%`):**\n",
        "- **Train Accuracy:** ~91.47%\n",
        "- **Test Accuracy:** ~91.18%\n",
        "- **Reason:**\n",
        "  - Enforces meaningful splits, improving both train and test accuracy.\n",
        "\n",
        "---\n",
        "\n",
        "##### **High Purity Thresholds (`Purity = 90%-95%`):**\n",
        "- **Train Accuracy:** ~94.64%-95.88%\n",
        "- **Test Accuracy:** ~94.30%-95.32%\n",
        "- **Reason:**\n",
        "  - Prevents overfitting by requiring significant impurity reduction, resulting in excellent generalization.\n",
        "\n",
        "---\n",
        "\n",
        "##### **Impact of Tree Depth:**\n",
        "- **Consistency Across Depths:**\n",
        "  - Accuracy remains consistent for depths ≥10.\n",
        "- **Reason:**\n",
        "  - `min_impurity_decrease` effectively limits tree complexity.\n",
        "\n",
        "---\n",
        "\n",
        "#### **5. Overall Insights**\n",
        "##### **Generalization vs. Overfitting**\n",
        "1. **Low Purity Thresholds:** Over-splitting leads to poor accuracy.\n",
        "2. **High Purity Thresholds:** Improved regularization results in better generalization.\n",
        "\n",
        "##### **Optimal Parameters**\n",
        "- **Purity:** 95% (best trade-off between bias and variance).\n",
        "- **Tree Depth:** 10 (sufficient for high performance).\n",
        "\n",
        "---\n",
        "\n",
        "### **Conclusion**\n",
        "- **Entropy:** Measures randomness, prioritizing splits that maximize information gain.\n",
        "- **Minimum Impurity Decrease:** Regularizes the tree, ensuring splits only for meaningful reductions in impurity.\n",
        "- **Maximum Depth:** Limits complexity, balancing model interpretability and accuracy.\n",
        "\n",
        "The recommended configuration of `max_depth=10` and `purity=95%` achieves high train and test accuracy (~95.88% and ~95.32%, respectively), resulting in a well-generalized model.\n"
      ],
      "metadata": {
        "id": "h1TtGhxBZixh"
      }
    },
    {
      "cell_type": "markdown",
      "source": [
        "#Finding Optimal Tree"
      ],
      "metadata": {
        "id": "vP9p5LW7G-Dt"
      }
    },
    {
      "cell_type": "markdown",
      "source": [
        "### **Objective**\n"
      ],
      "metadata": {
        "id": "qmpP8egUfakG"
      }
    },
    {
      "cell_type": "markdown",
      "source": [
        "The goal of this function is to identify the best combination of decision tree parameters, specifically:\n",
        "1. **Maximum Depth (`Size`)**: Determines how complex the tree can be.\n",
        "2. **Purity Threshold (`Purity`)**: Defines how significant a split must be to reduce impurity.  \n",
        "These parameters are chosen to maximize the **test accuracy**, ensuring the model balances generalization and interpretability."
      ],
      "metadata": {
        "id": "6ia8lTAbfcT_"
      }
    },
    {
      "cell_type": "markdown",
      "source": [
        "###Code"
      ],
      "metadata": {
        "id": "sH116HNkfeA8"
      }
    },
    {
      "cell_type": "code",
      "source": [
        "def find_optimal_tree(results_df, X_train, y_train):\n",
        "    # Find the row with the highest test accuracy\n",
        "    optimal_row = results_df.loc[results_df['test-accuracy'].idxmax()]\n",
        "    optimal_size = int(optimal_row['size'])\n",
        "    optimal_purity = optimal_row['purity']\n",
        "\n",
        "    # Convert purity to min_impurity_decrease\n",
        "    min_impurity = (100 - optimal_purity) / 100.0\n",
        "\n",
        "    # Train the optimal tree\n",
        "    optimal_tree = DecisionTreeClassifier(\n",
        "        criterion='entropy',\n",
        "        max_depth=optimal_size,\n",
        "        min_impurity_decrease=min_impurity,\n",
        "        random_state=42\n",
        "    )\n",
        "    optimal_tree.fit(X_train, y_train)\n",
        "\n",
        "    print(f\"Optimal Tree: Size={optimal_size}, Purity={optimal_purity}%\")\n",
        "    print(f\"Optimal Tree Accuracy: {optimal_tree.score(X_test, y_test) * 100:.2f}%\")\n",
        "    return optimal_tree, optimal_size, optimal_purity\n",
        "\n",
        "\n",
        "\n",
        "optimal_tree, optimal_size, optimal_purity = find_optimal_tree(results_df, X_train, y_train)"
      ],
      "metadata": {
        "colab": {
          "base_uri": "https://localhost:8080/"
        },
        "id": "TX05PQ6DIqeT",
        "outputId": "2a815378-36cc-4b4c-fa29-4970b4e9cb47"
      },
      "execution_count": 51,
      "outputs": [
        {
          "output_type": "stream",
          "name": "stdout",
          "text": [
            "Optimal Tree: Size=10, Purity=95.0%\n",
            "Optimal Tree Accuracy: 95.32%\n"
          ]
        }
      ]
    },
    {
      "cell_type": "markdown",
      "source": [
        "##Explaining Code"
      ],
      "metadata": {
        "id": "yv5qeJzVcmpR"
      }
    },
    {
      "cell_type": "markdown",
      "source": [
        "\n",
        "\n",
        "\n",
        "\n",
        "---\n",
        "\n",
        "### **Key Concepts**\n",
        "\n",
        "#### **1. Why Use Test Accuracy for Selection?**\n",
        "- Test accuracy evaluates how well the model generalizes to unseen data.\n",
        "- Selecting parameters based on test accuracy avoids overfitting, ensuring the model doesn't merely memorize the training data.\n",
        "\n",
        "---\n",
        "\n",
        "#### **2. Why Translate Purity to `min_impurity_decrease`?**\n",
        "- Purity thresholds are intuitively expressed as percentages, but decision trees require `min_impurity_decrease`, which:\n",
        "  \\[\n",
        "  \\text{min\\_impurity\\_decrease} = \\frac{100 - \\text{purity}}{100}\n",
        "  \\]\n",
        "- This conversion allows us to enforce splits only when they meaningfully reduce impurity:\n",
        "  - **Higher Purity (e.g., 95%)** → **Lower `min_impurity_decrease`** → Stricter splits → Prevents overfitting.\n",
        "  - **Lower Purity (e.g., 60%)** → **Higher `min_impurity_decrease`** → Allows more splits → Risks overfitting.\n",
        "\n",
        "---\n",
        "\n",
        "#### **3. Why Restrict Tree Depth (`max_depth`)?**\n",
        "- Depth determines the tree's complexity:\n",
        "  - **Shallow Trees:** Generalize better but risk underfitting if they can't capture the data's complexity.\n",
        "  - **Deep Trees:** Capture intricate patterns but risk overfitting by learning noise in the training data.\n",
        "- Limiting depth ensures interpretability and avoids overly complex models.\n",
        "\n",
        "---\n",
        "\n",
        "### **Insights from the Results**\n",
        "- **Optimal Parameters:**\n",
        "  - **`Size=10` (Tree Depth):** Captures sufficient complexity without overfitting.\n",
        "  - **`Purity=95%`:** Enforces significant impurity reduction, creating a robust and generalized model.\n",
        "- **Optimal Performance:**\n",
        "  - **Train Accuracy:** High (~95.88%) demonstrates the tree learns meaningful patterns.\n",
        "  - **Test Accuracy:** High (~95.32%) indicates excellent generalization to unseen data.\n",
        "\n",
        "---\n",
        "\n",
        "### **Why This Approach is Effective**\n",
        "1. **Focus on Generalization:** Test accuracy ensures the model performs well on unseen data.\n",
        "2. **Regularization via Purity:** `min_impurity_decrease` prevents overfitting by restricting unnecessary splits.\n",
        "3. **Balanced Complexity:** Depth control avoids overly simplistic (underfitting) or overly complex (overfitting) models.\n",
        "\n",
        "This method systematically ensures the decision tree achieves high performance while maintaining simplicity and interpretability.\n"
      ],
      "metadata": {
        "id": "Gzbc7aYjcotd"
      }
    },
    {
      "cell_type": "markdown",
      "source": [
        "#Generating Rules"
      ],
      "metadata": {
        "id": "WulklbS5G-az"
      }
    },
    {
      "cell_type": "markdown",
      "source": [
        "## **Objective**\n"
      ],
      "metadata": {
        "id": "bE6atCcbfoT9"
      }
    },
    {
      "cell_type": "markdown",
      "source": [
        "To generate a set of rules from the decision tree that are fully interpretable, using original feature labels and class names, and to evaluate the tree's performance using a confusion matrix and classification metrics."
      ],
      "metadata": {
        "id": "gP4XuAnzfpmn"
      }
    },
    {
      "cell_type": "markdown",
      "source": [
        "##Code"
      ],
      "metadata": {
        "id": "1vdQJquofqeq"
      }
    },
    {
      "cell_type": "code",
      "source": [
        "from sklearn.tree import export_text\n",
        "\n",
        "def generate_fully_readable_rules(optimal_tree, feature_names, label_encoders, target_encoder):\n",
        "    \"\"\"\n",
        "    Generate fully human-readable rules from the optimal tree.\n",
        "\n",
        "    Args:\n",
        "    - optimal_tree: Trained DecisionTreeClassifier.\n",
        "    - feature_names: List of feature names.\n",
        "    - label_encoders: Dictionary of LabelEncoder objects for features.\n",
        "    - target_encoder: LabelEncoder object for the target variable.\n",
        "\n",
        "    Returns:\n",
        "    - Fully human-readable rules as a string.\n",
        "    \"\"\"\n",
        "    tree_rules = export_text(optimal_tree, feature_names=feature_names)\n",
        "    readable_rules = []\n",
        "\n",
        "    for line in tree_rules.split('\\n'):\n",
        "        if 'class:' in line:\n",
        "            # Decode the class value to human-readable labels\n",
        "            class_label = int(line.split(':')[-1].strip())\n",
        "            original_label = target_encoder.inverse_transform([class_label])[0]\n",
        "            readable_class = \"Edible\" if original_label == \"e\" else \"Poisonous\"\n",
        "            line = line.replace(f'class: {class_label}', f'class: \"{readable_class}\"')\n",
        "        else:\n",
        "            for feature in feature_names:\n",
        "                if feature in line:\n",
        "                    # Translate feature thresholds to categorical labels\n",
        "                    parts = line.split()\n",
        "                    if len(parts) >= 3 and parts[-2] in ('<=', '>'):\n",
        "                        encoded_threshold = float(parts[-1])\n",
        "                        feature_name = feature.strip()\n",
        "                        if feature_name in label_encoders:  # Check if an encoder exists for this feature\n",
        "                            if encoded_threshold.is_integer():\n",
        "                                # Decode the threshold to its original categorical label\n",
        "                                original_threshold = label_encoders[feature_name].inverse_transform([int(encoded_threshold)])[0]\n",
        "                                line = line.replace(str(int(encoded_threshold)), f'\"{original_threshold}\"')\n",
        "\n",
        "        readable_rules.append(line)\n",
        "\n",
        "    # Combine the rules into a single string\n",
        "    final_rules = \"\\n\".join(readable_rules)\n",
        "    print(\"\\nFully Human-Readable Rules from the Optimal Tree:\")\n",
        "    print(final_rules)\n",
        "    return final_rules\n",
        "\n",
        "# Example Usage\n",
        "# Load the dataset\n",
        "df = pd.read_csv(\"/content/mushrooms.csv\")\n",
        "\n",
        "# Encode the dataset\n",
        "labelencoder = LabelEncoder()\n",
        "df['class'] = labelencoder.fit_transform(df['class'])  # Encode target variable (e.g., \"e\" -> 0, \"p\" -> 1)\n",
        "\n",
        "label_encoders = {}\n",
        "for column in df.drop(columns=['class']).columns:\n",
        "    label_encoders[column] = LabelEncoder()\n",
        "    df[column] = label_encoders[column].fit_transform(df[column])\n",
        "\n",
        "# Generate human-readable rules\n",
        "readable_rules = generate_fully_readable_rules(\n",
        "    optimal_tree=optimal_tree,\n",
        "    feature_names=X_train.columns,\n",
        "    label_encoders=label_encoders,\n",
        "    target_encoder=labelencoder\n",
        ")\n",
        "\n",
        "\n",
        "y_pred = optimal_tree.predict(X_test)\n",
        "\n",
        "# Generate the confusion matrix\n",
        "cm = confusion_matrix(y_test, y_pred)\n",
        "\n",
        "# Display the confusion matrix\n",
        "disp = ConfusionMatrixDisplay(confusion_matrix=cm, display_labels=labelencoder.classes_)\n",
        "disp.plot(cmap=\"viridis\")\n",
        "plt.title(\"Confusion Matrix for Optimal Tree\")\n",
        "plt.show()\n",
        "\n",
        "# Classification report for detailed performance metrics\n",
        "report = classification_report(y_test, y_pred, target_names=labelencoder.classes_)\n",
        "print(\"\\nClassification Report:\")\n",
        "print(report)"
      ],
      "metadata": {
        "colab": {
          "base_uri": "https://localhost:8080/",
          "height": 0
        },
        "id": "mEHk8deYKvnP",
        "outputId": "e56689ae-a5ec-46e9-fd9e-84bf0ab6c9e3"
      },
      "execution_count": 52,
      "outputs": [
        {
          "output_type": "stream",
          "name": "stdout",
          "text": [
            "\n",
            "Fully Human-Readable Rules from the Optimal Tree:\n",
            "|--- gill-color <= 0.50\n",
            "|   |--- class: \"Poisonous\"\n",
            "|--- gill-color >  0.50\n",
            "|   |--- spore-print-color <= 1.50\n",
            "|   |   |--- stalk-root <= 0.50\n",
            "|   |   |   |--- class: \"Edible\"\n",
            "|   |   |--- stalk-root >  0.50\n",
            "|   |   |   |--- class: \"Poisonous\"\n",
            "|   |--- spore-print-color >  1.50\n",
            "|   |   |--- gill-size <= 0.50\n",
            "|   |   |   |--- class: \"Edible\"\n",
            "|   |   |--- gill-size >  0.50\n",
            "|   |   |   |--- class: \"Poisonous\"\n",
            "\n"
          ]
        },
        {
          "output_type": "display_data",
          "data": {
            "text/plain": [
              "<Figure size 640x480 with 2 Axes>"
            ],
            "image/png": "[encoded data removed]"
          },
          "metadata": {}
        },
        {
          "output_type": "stream",
          "name": "stdout",
          "text": [
            "\n",
            "Classification Report:\n",
            "              precision    recall  f1-score   support\n",
            "\n",
            "           e       0.98      0.93      0.95      1257\n",
            "           p       0.93      0.97      0.95      1181\n",
            "\n",
            "    accuracy                           0.95      2438\n",
            "   macro avg       0.95      0.95      0.95      2438\n",
            "weighted avg       0.95      0.95      0.95      2438\n",
            "\n"
          ]
        }
      ]
    },
    {
      "cell_type": "markdown",
      "source": [
        "##Explaining Code and Results"
      ],
      "metadata": {
        "id": "hiN9kJD6eC5F"
      }
    },
    {
      "cell_type": "markdown",
      "source": [
        "\n",
        "\n",
        "\n",
        "---\n",
        "\n",
        "#### **Key Steps**\n",
        "\n",
        "##### **1. Translating Decision Tree Rules**\n",
        "- **Purpose:**\n",
        "  - Convert the decision tree's internal representation into human-readable rules.\n",
        "  - Ensure that encoded feature splits and class predictions are mapped back to their original categorical labels.\n",
        "\n",
        "- **How It Works:**\n",
        "  - Class predictions (`e` for `Edible`, `p` for `Poisonous`) are decoded and presented as `\"Edible\"` and `\"Poisonous\"`.\n",
        "\n",
        "---\n",
        "\n",
        "##### **2. Generating the Confusion Matrix**\n",
        "- **Purpose:**\n",
        "  - Compare the model's predicted classes against the actual labels to assess performance.\n",
        "- **Why It’s Useful:**\n",
        "  - Shows how many samples are correctly and incorrectly classified for each class.\n",
        "  - Helps identify any biases or performance issues in class predictions.\n",
        "\n",
        "---\n",
        "\n",
        "##### **3. Classification Report**\n",
        "- **Metrics:**\n",
        "  - **Precision:** Fraction of correct predictions among all predicted instances of a class.\n",
        "  - **Recall:** Fraction of actual instances of a class that are correctly identified.\n",
        "  - **F1-Score:** Balances precision and recall for a more comprehensive evaluation.\n",
        "  - **Accuracy:** Overall percentage of correct predictions.\n",
        "\n",
        "- **Why It’s Useful:**\n",
        "  - Provides detailed performance metrics for each class, helping evaluate class-specific strengths and weaknesses.\n",
        "\n",
        "---\n",
        "\n",
        "#### **Why This Approach is Valuable**\n",
        "- **Interpretability:**\n",
        "  - Translated rules ensure transparency in the decision-making process.\n",
        "  - Stakeholders can easily understand the conditions under which predictions are made.\n",
        "- **Performance Validation:**\n",
        "  - The confusion matrix and classification report comprehensively evaluate the tree's accuracy and generalization ability.\n",
        "\n",
        "---\n",
        "\n",
        "### **Conclusion**\n",
        "This process ensures that the decision tree's predictions are not only accurate but also interpretable.\n"
      ],
      "metadata": {
        "id": "dHa5QzQHeF1n"
      }
    },
    {
      "cell_type": "markdown",
      "source": [
        "### Tree Visualization"
      ],
      "metadata": {
        "id": "wUxIIQdZf3qP"
      }
    },
    {
      "cell_type": "markdown",
      "source": [
        "#### **Objective**"
      ],
      "metadata": {
        "id": "7dutkyn1gRzY"
      }
    },
    {
      "cell_type": "markdown",
      "source": [
        "The purpose of this process is to create a graphical representation of the decision tree, highlighting its splits, feature importance, and class probabilities in an interpretable format."
      ],
      "metadata": {
        "id": "0_01uP38gUV-"
      }
    },
    {
      "cell_type": "code",
      "source": [
        "from sklearn.tree import export_graphviz\n",
        "import graphviz\n",
        "\n",
        "def visualize_tree(optimal_tree, feature_names, class_names, output_file=\"tree\"):\n",
        "    \"\"\"\n",
        "    Visualize the decision tree using graphviz.\n",
        "\n",
        "    Args:\n",
        "    - optimal_tree: Trained DecisionTreeClassifier.\n",
        "    - feature_names: List of feature names.\n",
        "    - class_names: List of class names (e.g., ['Edible', 'Poisonous']).\n",
        "    - output_file: Name of the output file for visualization.\n",
        "\n",
        "    Returns:\n",
        "    - Graphviz Source object to display the tree.\n",
        "    \"\"\"\n",
        "    # Export the tree to DOT format\n",
        "    dot_data = export_graphviz(\n",
        "        optimal_tree,\n",
        "        out_file=None,\n",
        "        feature_names=feature_names,\n",
        "        class_names=class_names,\n",
        "        filled=True,  # Fill nodes with colors based on class probabilities\n",
        "        rounded=True,  # Rounded corners for better visualization\n",
        "        special_characters=True  # Support for non-ASCII characters\n",
        "    )\n",
        "\n",
        "    # Render the tree using graphviz\n",
        "    graph = graphviz.Source(dot_data)\n",
        "    graph.render(output_file, format=\"png\", cleanup=True)  # Save as PNG\n",
        "    print(f\"Decision tree visualization saved as {output_file}.png\")\n",
        "    return graph\n",
        "\n",
        "# Example Usage\n",
        "class_names = [labelencoder.inverse_transform([0])[0], labelencoder.inverse_transform([1])[0]]\n",
        "graph = visualize_tree(\n",
        "    optimal_tree=optimal_tree,\n",
        "    feature_names=X_train.columns,\n",
        "    class_names=class_names,\n",
        "    output_file=\"optimal_tree\"\n",
        ")\n",
        "\n",
        "# Display the tree inline (for Jupyter Notebook or Colab)\n",
        "graph.view()\n"
      ],
      "metadata": {
        "colab": {
          "base_uri": "https://localhost:8080/",
          "height": 0
        },
        "id": "nGF8R9uMYXMx",
        "outputId": "cf9ba998-74ca-4390-9716-ad9751448762"
      },
      "execution_count": 53,
      "outputs": [
        {
          "output_type": "stream",
          "name": "stdout",
          "text": [
            "Decision tree visualization saved as optimal_tree.png\n"
          ]
        },
        {
          "output_type": "execute_result",
          "data": {
            "text/plain": [
              "'optimal_tree.pdf'"
            ],
            "application/vnd.google.colaboratory.intrinsic+json": {
              "type": "string"
            }
          },
          "metadata": {},
          "execution_count": 53
        }
      ]
    },
    {
      "cell_type": "markdown",
      "source": [
        "###Explaining Code"
      ],
      "metadata": {
        "id": "Gmi6DZaoebBA"
      }
    },
    {
      "cell_type": "markdown",
      "source": [
        "\n",
        "\n",
        "\n",
        "#### **Key Steps**\n",
        "\n",
        "#### **1. Exporting the Tree to DOT Format**\n",
        "- **Purpose:**\n",
        "  - The tree structure is exported to DOT format using the `export_graphviz` function from `sklearn.tree`.\n",
        "  - This format provides a detailed textual representation of the tree, which is then rendered into a visual diagram.\n",
        "\n",
        "- **Customization:**\n",
        "  - **`feature_names`:** Displays the names of features used for splits.\n",
        "  - **`class_names`:** Maps the numeric class labels to their original class names (e.g., `Edible`, `Poisonous`).\n",
        "  - **`filled=True`:** Fills the nodes with colors based on class probabilities, improving visual clarity.\n",
        "  - **`rounded=True`:** Adds rounded corners to the nodes for a cleaner look.\n",
        "  - **`special_characters=True`:** Ensures support for non-ASCII characters.\n",
        "\n",
        "---\n",
        "\n",
        "#### **2. Rendering and Saving the Visualization**\n",
        "- **Graphviz Rendering:**\n",
        "  - The exported DOT data is rendered into a graphical format (e.g., PNG) using `graphviz.Source`.\n",
        "  - The output is saved as an image file (e.g., `optimal_tree.png`) for easy sharing and analysis.\n",
        "\n",
        "---\n",
        "\n",
        "#### **3. Displaying the Tree Inline**\n",
        "- **Interactive Visualization:**\n",
        "  - In Jupyter Notebook or Google Colab, the tree can be displayed inline using the `.view()` method, enabling immediate inspection and analysis.\n",
        "\n",
        "---\n",
        "\n",
        "### **Why This Visualization is Important**\n",
        "1. **Interpretable Insights:**\n",
        "   - The graphical representation shows how the tree splits on features and the resulting class probabilities at each node.\n",
        "   - Provides a clear understanding of the decision-making process.\n",
        "\n",
        "2. **Feature Importance:**\n",
        "   - Highlights the most significant features used for splitting, offering insights into which attributes are critical for predictions.\n",
        "\n",
        "3. **Stakeholder Communication:**\n",
        "   - The visualization is intuitive and can be shared with non-technical stakeholders, making the model's logic transparent and actionable.\n",
        "\n",
        "\n",
        "---\n",
        "\n",
        "### **Conclusion**\n",
        "Visualizing the decision tree with Graphviz enhances interpretability by presenting the model's logic in a visually intuitive format. This approach not only aids in debugging and analysis but also helps in effectively communicating the results to stakeholders.\n"
      ],
      "metadata": {
        "id": "9uVfJCCWecmZ"
      }
    },
    {
      "cell_type": "markdown",
      "source": [
        "# Plotting Accuracy for optimal size and optimal purity"
      ],
      "metadata": {
        "id": "uvUmwwF8HEol"
      }
    },
    {
      "cell_type": "markdown",
      "source": [
        "\n",
        "## **Objective**\n"
      ],
      "metadata": {
        "id": "DhPGrwjTgDhE"
      }
    },
    {
      "cell_type": "markdown",
      "source": [
        "This process evaluates how the accuracy of the decision tree model changes with:\n",
        "1. **Purity Thresholds (`Purity`)**: Controls the minimum impurity reduction required for splits.\n",
        "2. **Maximum Tree Depth (`Size`)**: Limits the number of levels in the decision tree.\n",
        "\n",
        "The goal is to analyze the relationship between these parameters and model performance to understand their impact on generalization and overfitting.\n",
        "\n",
        "---"
      ],
      "metadata": {
        "id": "OFFB1pY5gFrD"
      }
    },
    {
      "cell_type": "markdown",
      "source": [
        "##Code"
      ],
      "metadata": {
        "id": "pZfVUchhgGSw"
      }
    },
    {
      "cell_type": "code",
      "source": [
        "def plot_accuracy_curves(results_df, optimal_size, optimal_purity):\n",
        "    # Filter by optimal size\n",
        "    df_size = results_df[results_df['size'] == optimal_size]\n",
        "    plt.figure(figsize=(8, 6))\n",
        "    plt.plot(df_size['purity'], df_size['training-accuracy'], label='Training Accuracy', marker='o')\n",
        "    plt.plot(df_size['purity'], df_size['test-accuracy'], label='Test Accuracy', marker='o')\n",
        "    plt.xlabel('Purity (%)')\n",
        "    plt.ylabel('Accuracy (%)')\n",
        "    plt.title(f'Accuracy vs. Purity (Size={optimal_size})')\n",
        "    plt.legend()\n",
        "    plt.grid()\n",
        "    plt.show()\n",
        "\n",
        "    # Filter by optimal purity\n",
        "    df_purity = results_df[results_df['purity'] == optimal_purity]\n",
        "    plt.figure(figsize=(8, 6))\n",
        "    plt.plot(df_purity['size'], df_purity['training-accuracy'], label='Training Accuracy', marker='o')\n",
        "    plt.plot(df_purity['size'], df_purity['test-accuracy'], label='Test Accuracy', marker='o')\n",
        "    plt.xlabel('Size')\n",
        "    plt.ylabel('Accuracy (%)')\n",
        "    plt.title(f'Accuracy vs. Size (Purity={optimal_purity}%)')\n",
        "    plt.legend()\n",
        "    plt.grid()\n",
        "    plt.show()\n",
        "\n",
        "plot_accuracy_curves(results_df, optimal_size, optimal_purity)"
      ],
      "metadata": {
        "colab": {
          "base_uri": "https://localhost:8080/",
          "height": 0
        },
        "id": "Ppjc8lG_ItWQ",
        "outputId": "b414e49c-bd54-4afa-b7fa-8119fc1ad430"
      },
      "execution_count": 54,
      "outputs": [
        {
          "output_type": "display_data",
          "data": {
            "text/plain": [
              "<Figure size 800x600 with 1 Axes>"
            ],
            "image/png": "[encoded data removed]"
          },
          "metadata": {}
        },
        {
          "output_type": "display_data",
          "data": {
            "text/plain": [
              "<Figure size 800x600 with 1 Axes>"
            ],
            "image/png": "[encoded data removed]"
          },
          "metadata": {}
        }
      ]
    },
    {
      "cell_type": "markdown",
      "source": [
        "##Explanation of Code and Result"
      ],
      "metadata": {
        "id": "5lb0QfM3e5ch"
      }
    },
    {
      "cell_type": "markdown",
      "source": [
        "\n",
        "\n",
        "\n",
        "### **Graphs and Observations**\n",
        "\n",
        "#### **1. Accuracy vs. Purity (Size = 10)**\n",
        "- **Graph:**\n",
        "  - X-Axis: Purity thresholds (%).\n",
        "  - Y-Axis: Accuracy (training and test).\n",
        "  - Represents accuracy trends for different purity thresholds while keeping the tree depth constant at `Size=10`.\n",
        "\n",
        "- **Key Insights:**\n",
        "  1. **Low Purity Thresholds (`60% - 70%`):**\n",
        "     - **Train Accuracy:** ~51.9%.\n",
        "     - **Test Accuracy:** ~51.56%.\n",
        "     - Indicates that the tree is splitting too frequently on noise, resulting in poor generalization and underperformance.\n",
        "\n",
        "  2. **Transition Zone (`75%`):**\n",
        "     - **Train Accuracy:** Jumps to ~91.47%.\n",
        "     - **Test Accuracy:** Jumps to ~91.18%.\n",
        "     - Splits are now based on meaningful impurity reductions, improving both training and test accuracy.\n",
        "\n",
        "  3. **High Purity Thresholds (`80% - 95%`):**\n",
        "     - **Train Accuracy:** Gradually improves to ~95.88%.\n",
        "     - **Test Accuracy:** Stabilizes at ~95.32%.\n",
        "     - Higher purity thresholds enforce stricter splits, avoiding overfitting while maintaining excellent generalization.\n",
        "\n",
        "---\n",
        "\n",
        "#### **2. Accuracy vs. Size (Purity = 95%)**\n",
        "- **Graph:**\n",
        "  - X-Axis: Tree Depth (`Size`).\n",
        "  - Y-Axis: Accuracy (training and test).\n",
        "  - Represents accuracy trends for different tree depths while keeping the purity threshold constant at `95%`.\n",
        "\n",
        "- **Key Insights:**\n",
        "  1. **Consistency Across Depths:**\n",
        "     - **Train Accuracy:** ~95.88% across all depths.\n",
        "     - **Test Accuracy:** ~95.32% across all depths.\n",
        "     - Indicates that the `min_impurity_decrease` parameter is effectively regularizing the tree, preventing unnecessary splits regardless of tree depth.\n",
        "\n",
        "  2. **Why No Overfitting?**\n",
        "     - The high purity threshold (`95%`) ensures splits only occur for significant reductions in impurity, limiting the model's ability to overfit even with larger tree depths.\n",
        "\n",
        "---\n",
        "\n",
        "### **Overall Interpretations**\n",
        "\n",
        "#### **Purity Thresholds:**\n",
        "- **Low Purity:** Results in frequent, less meaningful splits, leading to overfitting on the training data and poor test performance.\n",
        "- **High Purity:** Enforces stricter splits, improving generalization and test accuracy while maintaining high training accuracy.\n",
        "\n",
        "#### **Tree Depth:**\n",
        "- Increasing the depth beyond a certain point has no effect due to the regularization enforced by `min_impurity_decrease`.\n",
        "- Optimal tree size (`Size=10`) is sufficient to capture meaningful patterns while avoiding overfitting.\n",
        "\n",
        "---\n",
        "\n",
        "### **Conclusion**\n",
        "1. **Purity vs. Accuracy:**\n",
        "   - The transition at `Purity=75%` highlights the importance of setting a meaningful threshold for impurity reduction.\n",
        "   - High purity values (e.g., `95%`) ensure excellent generalization.\n",
        "\n",
        "2. **Size vs. Accuracy:**\n",
        "   - The model remains stable across depths when regularized by a high purity threshold, demonstrating robustness.\n",
        "\n",
        "These results confirm that the combination of `Size=10` and `Purity=95%` is optimal for achieving high accuracy and generalization.\n"
      ],
      "metadata": {
        "id": "WDZ0eK81e8AI"
      }
    }
  ]
}